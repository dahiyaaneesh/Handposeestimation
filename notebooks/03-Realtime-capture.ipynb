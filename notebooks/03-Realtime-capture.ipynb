{
 "cells": [
  {
   "cell_type": "markdown",
   "metadata": {},
   "source": [
    "# Notebook to illustrate live predictions\n",
    "\n",
    "Use ``src/evaulation/live_evaluation.py`` for live evaluation. \n",
    "This is just to see quality of the model for visually. Since the model is trained on right hand images, with the object of interest around image center, make sure the captured image also satisfy this requirement.\n",
    "\n",
    "\n",
    "**Note**\n",
    "\n",
    "Heatmap based models are very slow on CPU only system.\n"
   ]
  },
  {
   "cell_type": "code",
   "execution_count": null,
   "metadata": {
    "ExecuteTime": {
     "end_time": "2021-05-19T16:52:50.216540Z",
     "start_time": "2021-05-19T16:52:47.833165Z"
    }
   },
   "outputs": [],
   "source": [
    "from src.models.supervised.denoised_baseline import DenoisedBaselineModel\n",
    "from src.models.supervised.denoised_heatmap_model import DenoisedHeatmapmodel\n",
    "from src.experiments.utils import restore_model\n",
    "from easydict import EasyDict as edict\n",
    "from src.utils import read_json\n",
    "from src.constants import SUPERVISED_CONFIG_PATH\n",
    "import cv2\n",
    "import torch\n",
    "from torchvision import transforms\n",
    "from src.visualization.visualize import draw_hand_over_image\n",
    "from src.evaluation.utils import capture_frame, make_raw_inference"
   ]
  },
  {
   "cell_type": "markdown",
   "metadata": {},
   "source": [
    "# Load model"
   ]
  },
  {
   "cell_type": "code",
   "execution_count": null,
   "metadata": {
    "ExecuteTime": {
     "end_time": "2021-05-19T16:53:14.472326Z",
     "start_time": "2021-05-19T16:53:14.101732Z"
    }
   },
   "outputs": [],
   "source": [
    "model_config = edict(read_json(SUPERVISED_CONFIG_PATH))\n",
    "model_config[\"resnet_size\"]=\"18\"\n",
    "model = DenoisedBaselineModel(model_config)\n",
    "transform=transforms.Compose(\n",
    "            [   transforms.ToTensor(),\n",
    "                transforms.Normalize((0.485, 0.456, 0.406), (0.229, 0.224, 0.225)),\n",
    "            ]\n",
    "        )\n",
    "restore_model(model,experiment_key=\"89947329cacb423da8224635f5958d54\", checkpoint=\"\")\n",
    "model.eval()\n",
    "print()"
   ]
  },
  {
   "cell_type": "markdown",
   "metadata": {},
   "source": [
    "# Capture an image and make predictions"
   ]
  },
  {
   "cell_type": "code",
   "execution_count": null,
   "metadata": {
    "ExecuteTime": {
     "end_time": "2021-05-19T16:20:52.293313Z",
     "start_time": "2021-05-19T16:20:51.170225Z"
    }
   },
   "outputs": [],
   "source": [
    "vc.release()\n",
    "vc = cv2.VideoCapture(0)\n",
    "frame = capture_frame(vc)\n",
    "prediction = make_raw_inference(model, frame)\n",
    "frame = draw_hand_over_image(frame, prediction)\n",
    "plt.matshow(frame)\n",
    "plt.imshow(frame)"
   ]
  }
 ],
 "metadata": {
  "kernelspec": {
   "display_name": "Python 3",
   "language": "python",
   "name": "python3"
  },
  "language_info": {
   "codemirror_mode": {
    "name": "ipython",
    "version": 3
   },
   "file_extension": ".py",
   "mimetype": "text/x-python",
   "name": "python",
   "nbconvert_exporter": "python",
   "pygments_lexer": "ipython3",
   "version": "3.6.9"
  },
  "toc": {
   "base_numbering": 1,
   "nav_menu": {},
   "number_sections": true,
   "sideBar": true,
   "skip_h1_title": false,
   "title_cell": "Table of Contents",
   "title_sidebar": "Contents",
   "toc_cell": false,
   "toc_position": {},
   "toc_section_display": true,
   "toc_window_display": false
  },
  "varInspector": {
   "cols": {
    "lenName": 16,
    "lenType": 16,
    "lenVar": 40
   },
   "kernels_config": {
    "python": {
     "delete_cmd_postfix": "",
     "delete_cmd_prefix": "del ",
     "library": "var_list.py",
     "varRefreshCmd": "print(var_dic_list())"
    },
    "r": {
     "delete_cmd_postfix": ") ",
     "delete_cmd_prefix": "rm(",
     "library": "var_list.r",
     "varRefreshCmd": "cat(var_dic_list()) "
    }
   },
   "types_to_exclude": [
    "module",
    "function",
    "builtin_function_or_method",
    "instance",
    "_Feature"
   ],
   "window_display": false
  }
 },
 "nbformat": 4,
 "nbformat_minor": 4
}
